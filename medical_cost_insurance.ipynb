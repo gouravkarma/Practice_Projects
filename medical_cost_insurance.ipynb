{
 "cells": [
  {
   "cell_type": "code",
   "execution_count": 154,
   "id": "35ff6410",
   "metadata": {},
   "outputs": [],
   "source": [
    "import numpy as np\n",
    "import pandas as pd\n",
    "import matplotlib.pyplot as plt\n",
    "import seaborn as sns\n",
    "import sklearn\n",
    "from sklearn.linear_model import LinearRegression \n",
    "from sklearn.metrics import mean_squared_error,mean_absolute_error\n",
    "from sklearn.metrics import accuracy_score,confusion_matrix,classification_report\n",
    "from sklearn.model_selection import train_test_split\n",
    "import sklearn\n",
    "from sklearn.preprocessing import OneHotEncoder,LabelEncoder\n",
    "import warnings\n",
    "warnings.filterwarnings('ignore')"
   ]
  },
  {
   "cell_type": "code",
   "execution_count": 155,
   "id": "62b226c7",
   "metadata": {},
   "outputs": [
    {
     "data": {
      "text/html": [
       "<div>\n",
       "<style scoped>\n",
       "    .dataframe tbody tr th:only-of-type {\n",
       "        vertical-align: middle;\n",
       "    }\n",
       "\n",
       "    .dataframe tbody tr th {\n",
       "        vertical-align: top;\n",
       "    }\n",
       "\n",
       "    .dataframe thead th {\n",
       "        text-align: right;\n",
       "    }\n",
       "</style>\n",
       "<table border=\"1\" class=\"dataframe\">\n",
       "  <thead>\n",
       "    <tr style=\"text-align: right;\">\n",
       "      <th></th>\n",
       "      <th>age</th>\n",
       "      <th>sex</th>\n",
       "      <th>bmi</th>\n",
       "      <th>children</th>\n",
       "      <th>smoker</th>\n",
       "      <th>region</th>\n",
       "      <th>charges</th>\n",
       "    </tr>\n",
       "  </thead>\n",
       "  <tbody>\n",
       "    <tr>\n",
       "      <th>0</th>\n",
       "      <td>19</td>\n",
       "      <td>female</td>\n",
       "      <td>27.900</td>\n",
       "      <td>0</td>\n",
       "      <td>yes</td>\n",
       "      <td>southwest</td>\n",
       "      <td>16884.92400</td>\n",
       "    </tr>\n",
       "    <tr>\n",
       "      <th>1</th>\n",
       "      <td>18</td>\n",
       "      <td>male</td>\n",
       "      <td>33.770</td>\n",
       "      <td>1</td>\n",
       "      <td>no</td>\n",
       "      <td>southeast</td>\n",
       "      <td>1725.55230</td>\n",
       "    </tr>\n",
       "    <tr>\n",
       "      <th>2</th>\n",
       "      <td>28</td>\n",
       "      <td>male</td>\n",
       "      <td>33.000</td>\n",
       "      <td>3</td>\n",
       "      <td>no</td>\n",
       "      <td>southeast</td>\n",
       "      <td>4449.46200</td>\n",
       "    </tr>\n",
       "    <tr>\n",
       "      <th>3</th>\n",
       "      <td>33</td>\n",
       "      <td>male</td>\n",
       "      <td>22.705</td>\n",
       "      <td>0</td>\n",
       "      <td>no</td>\n",
       "      <td>northwest</td>\n",
       "      <td>21984.47061</td>\n",
       "    </tr>\n",
       "    <tr>\n",
       "      <th>4</th>\n",
       "      <td>32</td>\n",
       "      <td>male</td>\n",
       "      <td>28.880</td>\n",
       "      <td>0</td>\n",
       "      <td>no</td>\n",
       "      <td>northwest</td>\n",
       "      <td>3866.85520</td>\n",
       "    </tr>\n",
       "    <tr>\n",
       "      <th>...</th>\n",
       "      <td>...</td>\n",
       "      <td>...</td>\n",
       "      <td>...</td>\n",
       "      <td>...</td>\n",
       "      <td>...</td>\n",
       "      <td>...</td>\n",
       "      <td>...</td>\n",
       "    </tr>\n",
       "    <tr>\n",
       "      <th>1333</th>\n",
       "      <td>50</td>\n",
       "      <td>male</td>\n",
       "      <td>30.970</td>\n",
       "      <td>3</td>\n",
       "      <td>no</td>\n",
       "      <td>northwest</td>\n",
       "      <td>10600.54830</td>\n",
       "    </tr>\n",
       "    <tr>\n",
       "      <th>1334</th>\n",
       "      <td>18</td>\n",
       "      <td>female</td>\n",
       "      <td>31.920</td>\n",
       "      <td>0</td>\n",
       "      <td>no</td>\n",
       "      <td>northeast</td>\n",
       "      <td>2205.98080</td>\n",
       "    </tr>\n",
       "    <tr>\n",
       "      <th>1335</th>\n",
       "      <td>18</td>\n",
       "      <td>female</td>\n",
       "      <td>36.850</td>\n",
       "      <td>0</td>\n",
       "      <td>no</td>\n",
       "      <td>southeast</td>\n",
       "      <td>1629.83350</td>\n",
       "    </tr>\n",
       "    <tr>\n",
       "      <th>1336</th>\n",
       "      <td>21</td>\n",
       "      <td>female</td>\n",
       "      <td>25.800</td>\n",
       "      <td>0</td>\n",
       "      <td>no</td>\n",
       "      <td>southwest</td>\n",
       "      <td>2007.94500</td>\n",
       "    </tr>\n",
       "    <tr>\n",
       "      <th>1337</th>\n",
       "      <td>61</td>\n",
       "      <td>female</td>\n",
       "      <td>29.070</td>\n",
       "      <td>0</td>\n",
       "      <td>yes</td>\n",
       "      <td>northwest</td>\n",
       "      <td>29141.36030</td>\n",
       "    </tr>\n",
       "  </tbody>\n",
       "</table>\n",
       "<p>1338 rows × 7 columns</p>\n",
       "</div>"
      ],
      "text/plain": [
       "      age     sex     bmi  children smoker     region      charges\n",
       "0      19  female  27.900         0    yes  southwest  16884.92400\n",
       "1      18    male  33.770         1     no  southeast   1725.55230\n",
       "2      28    male  33.000         3     no  southeast   4449.46200\n",
       "3      33    male  22.705         0     no  northwest  21984.47061\n",
       "4      32    male  28.880         0     no  northwest   3866.85520\n",
       "...   ...     ...     ...       ...    ...        ...          ...\n",
       "1333   50    male  30.970         3     no  northwest  10600.54830\n",
       "1334   18  female  31.920         0     no  northeast   2205.98080\n",
       "1335   18  female  36.850         0     no  southeast   1629.83350\n",
       "1336   21  female  25.800         0     no  southwest   2007.94500\n",
       "1337   61  female  29.070         0    yes  northwest  29141.36030\n",
       "\n",
       "[1338 rows x 7 columns]"
      ]
     },
     "execution_count": 155,
     "metadata": {},
     "output_type": "execute_result"
    }
   ],
   "source": [
    "df=pd.read_csv('medical_cost_insurance.csv')\n",
    "df"
   ]
  },
  {
   "cell_type": "code",
   "execution_count": 156,
   "id": "b9f0de58",
   "metadata": {},
   "outputs": [
    {
     "data": {
      "text/html": [
       "<div>\n",
       "<style scoped>\n",
       "    .dataframe tbody tr th:only-of-type {\n",
       "        vertical-align: middle;\n",
       "    }\n",
       "\n",
       "    .dataframe tbody tr th {\n",
       "        vertical-align: top;\n",
       "    }\n",
       "\n",
       "    .dataframe thead th {\n",
       "        text-align: right;\n",
       "    }\n",
       "</style>\n",
       "<table border=\"1\" class=\"dataframe\">\n",
       "  <thead>\n",
       "    <tr style=\"text-align: right;\">\n",
       "      <th></th>\n",
       "      <th>age</th>\n",
       "      <th>sex</th>\n",
       "      <th>bmi</th>\n",
       "      <th>children</th>\n",
       "      <th>smoker</th>\n",
       "      <th>region</th>\n",
       "      <th>charges</th>\n",
       "    </tr>\n",
       "  </thead>\n",
       "  <tbody>\n",
       "    <tr>\n",
       "      <th>0</th>\n",
       "      <td>19</td>\n",
       "      <td>female</td>\n",
       "      <td>27.900</td>\n",
       "      <td>0</td>\n",
       "      <td>yes</td>\n",
       "      <td>southwest</td>\n",
       "      <td>16884.92400</td>\n",
       "    </tr>\n",
       "    <tr>\n",
       "      <th>1</th>\n",
       "      <td>18</td>\n",
       "      <td>male</td>\n",
       "      <td>33.770</td>\n",
       "      <td>1</td>\n",
       "      <td>no</td>\n",
       "      <td>southeast</td>\n",
       "      <td>1725.55230</td>\n",
       "    </tr>\n",
       "    <tr>\n",
       "      <th>2</th>\n",
       "      <td>28</td>\n",
       "      <td>male</td>\n",
       "      <td>33.000</td>\n",
       "      <td>3</td>\n",
       "      <td>no</td>\n",
       "      <td>southeast</td>\n",
       "      <td>4449.46200</td>\n",
       "    </tr>\n",
       "    <tr>\n",
       "      <th>3</th>\n",
       "      <td>33</td>\n",
       "      <td>male</td>\n",
       "      <td>22.705</td>\n",
       "      <td>0</td>\n",
       "      <td>no</td>\n",
       "      <td>northwest</td>\n",
       "      <td>21984.47061</td>\n",
       "    </tr>\n",
       "    <tr>\n",
       "      <th>4</th>\n",
       "      <td>32</td>\n",
       "      <td>male</td>\n",
       "      <td>28.880</td>\n",
       "      <td>0</td>\n",
       "      <td>no</td>\n",
       "      <td>northwest</td>\n",
       "      <td>3866.85520</td>\n",
       "    </tr>\n",
       "  </tbody>\n",
       "</table>\n",
       "</div>"
      ],
      "text/plain": [
       "   age     sex     bmi  children smoker     region      charges\n",
       "0   19  female  27.900         0    yes  southwest  16884.92400\n",
       "1   18    male  33.770         1     no  southeast   1725.55230\n",
       "2   28    male  33.000         3     no  southeast   4449.46200\n",
       "3   33    male  22.705         0     no  northwest  21984.47061\n",
       "4   32    male  28.880         0     no  northwest   3866.85520"
      ]
     },
     "execution_count": 156,
     "metadata": {},
     "output_type": "execute_result"
    }
   ],
   "source": [
    "df.head()"
   ]
  },
  {
   "cell_type": "code",
   "execution_count": 157,
   "id": "e52840dd",
   "metadata": {},
   "outputs": [
    {
     "data": {
      "text/html": [
       "<div>\n",
       "<style scoped>\n",
       "    .dataframe tbody tr th:only-of-type {\n",
       "        vertical-align: middle;\n",
       "    }\n",
       "\n",
       "    .dataframe tbody tr th {\n",
       "        vertical-align: top;\n",
       "    }\n",
       "\n",
       "    .dataframe thead th {\n",
       "        text-align: right;\n",
       "    }\n",
       "</style>\n",
       "<table border=\"1\" class=\"dataframe\">\n",
       "  <thead>\n",
       "    <tr style=\"text-align: right;\">\n",
       "      <th></th>\n",
       "      <th>age</th>\n",
       "      <th>sex</th>\n",
       "      <th>bmi</th>\n",
       "      <th>children</th>\n",
       "      <th>smoker</th>\n",
       "      <th>region</th>\n",
       "      <th>charges</th>\n",
       "    </tr>\n",
       "  </thead>\n",
       "  <tbody>\n",
       "    <tr>\n",
       "      <th>1333</th>\n",
       "      <td>50</td>\n",
       "      <td>male</td>\n",
       "      <td>30.97</td>\n",
       "      <td>3</td>\n",
       "      <td>no</td>\n",
       "      <td>northwest</td>\n",
       "      <td>10600.5483</td>\n",
       "    </tr>\n",
       "    <tr>\n",
       "      <th>1334</th>\n",
       "      <td>18</td>\n",
       "      <td>female</td>\n",
       "      <td>31.92</td>\n",
       "      <td>0</td>\n",
       "      <td>no</td>\n",
       "      <td>northeast</td>\n",
       "      <td>2205.9808</td>\n",
       "    </tr>\n",
       "    <tr>\n",
       "      <th>1335</th>\n",
       "      <td>18</td>\n",
       "      <td>female</td>\n",
       "      <td>36.85</td>\n",
       "      <td>0</td>\n",
       "      <td>no</td>\n",
       "      <td>southeast</td>\n",
       "      <td>1629.8335</td>\n",
       "    </tr>\n",
       "    <tr>\n",
       "      <th>1336</th>\n",
       "      <td>21</td>\n",
       "      <td>female</td>\n",
       "      <td>25.80</td>\n",
       "      <td>0</td>\n",
       "      <td>no</td>\n",
       "      <td>southwest</td>\n",
       "      <td>2007.9450</td>\n",
       "    </tr>\n",
       "    <tr>\n",
       "      <th>1337</th>\n",
       "      <td>61</td>\n",
       "      <td>female</td>\n",
       "      <td>29.07</td>\n",
       "      <td>0</td>\n",
       "      <td>yes</td>\n",
       "      <td>northwest</td>\n",
       "      <td>29141.3603</td>\n",
       "    </tr>\n",
       "  </tbody>\n",
       "</table>\n",
       "</div>"
      ],
      "text/plain": [
       "      age     sex    bmi  children smoker     region     charges\n",
       "1333   50    male  30.97         3     no  northwest  10600.5483\n",
       "1334   18  female  31.92         0     no  northeast   2205.9808\n",
       "1335   18  female  36.85         0     no  southeast   1629.8335\n",
       "1336   21  female  25.80         0     no  southwest   2007.9450\n",
       "1337   61  female  29.07         0    yes  northwest  29141.3603"
      ]
     },
     "execution_count": 157,
     "metadata": {},
     "output_type": "execute_result"
    }
   ],
   "source": [
    "df.tail()"
   ]
  },
  {
   "cell_type": "code",
   "execution_count": 158,
   "id": "54e91411",
   "metadata": {},
   "outputs": [
    {
     "data": {
      "text/html": [
       "<div>\n",
       "<style scoped>\n",
       "    .dataframe tbody tr th:only-of-type {\n",
       "        vertical-align: middle;\n",
       "    }\n",
       "\n",
       "    .dataframe tbody tr th {\n",
       "        vertical-align: top;\n",
       "    }\n",
       "\n",
       "    .dataframe thead th {\n",
       "        text-align: right;\n",
       "    }\n",
       "</style>\n",
       "<table border=\"1\" class=\"dataframe\">\n",
       "  <thead>\n",
       "    <tr style=\"text-align: right;\">\n",
       "      <th></th>\n",
       "      <th>age</th>\n",
       "      <th>sex</th>\n",
       "      <th>bmi</th>\n",
       "      <th>children</th>\n",
       "      <th>smoker</th>\n",
       "      <th>region</th>\n",
       "      <th>charges</th>\n",
       "    </tr>\n",
       "  </thead>\n",
       "  <tbody>\n",
       "    <tr>\n",
       "      <th>908</th>\n",
       "      <td>63</td>\n",
       "      <td>male</td>\n",
       "      <td>39.8</td>\n",
       "      <td>3</td>\n",
       "      <td>no</td>\n",
       "      <td>southwest</td>\n",
       "      <td>15170.069</td>\n",
       "    </tr>\n",
       "  </tbody>\n",
       "</table>\n",
       "</div>"
      ],
      "text/plain": [
       "     age   sex   bmi  children smoker     region    charges\n",
       "908   63  male  39.8         3     no  southwest  15170.069"
      ]
     },
     "execution_count": 158,
     "metadata": {},
     "output_type": "execute_result"
    }
   ],
   "source": [
    "df.sample()"
   ]
  },
  {
   "cell_type": "code",
   "execution_count": 159,
   "id": "8a3c5554",
   "metadata": {},
   "outputs": [
    {
     "data": {
      "text/plain": [
       "age           int64\n",
       "sex          object\n",
       "bmi         float64\n",
       "children      int64\n",
       "smoker       object\n",
       "region       object\n",
       "charges     float64\n",
       "dtype: object"
      ]
     },
     "execution_count": 159,
     "metadata": {},
     "output_type": "execute_result"
    }
   ],
   "source": [
    "df.dtypes"
   ]
  },
  {
   "cell_type": "code",
   "execution_count": 160,
   "id": "5ccd1aa0",
   "metadata": {},
   "outputs": [
    {
     "name": "stdout",
     "output_type": "stream",
     "text": [
      "<class 'pandas.core.frame.DataFrame'>\n",
      "RangeIndex: 1338 entries, 0 to 1337\n",
      "Data columns (total 7 columns):\n",
      " #   Column    Non-Null Count  Dtype  \n",
      "---  ------    --------------  -----  \n",
      " 0   age       1338 non-null   int64  \n",
      " 1   sex       1338 non-null   object \n",
      " 2   bmi       1338 non-null   float64\n",
      " 3   children  1338 non-null   int64  \n",
      " 4   smoker    1338 non-null   object \n",
      " 5   region    1338 non-null   object \n",
      " 6   charges   1338 non-null   float64\n",
      "dtypes: float64(2), int64(2), object(3)\n",
      "memory usage: 73.3+ KB\n"
     ]
    }
   ],
   "source": [
    "df.info()"
   ]
  },
  {
   "cell_type": "code",
   "execution_count": 161,
   "id": "f0b4ec26",
   "metadata": {},
   "outputs": [
    {
     "data": {
      "text/html": [
       "<div>\n",
       "<style scoped>\n",
       "    .dataframe tbody tr th:only-of-type {\n",
       "        vertical-align: middle;\n",
       "    }\n",
       "\n",
       "    .dataframe tbody tr th {\n",
       "        vertical-align: top;\n",
       "    }\n",
       "\n",
       "    .dataframe thead th {\n",
       "        text-align: right;\n",
       "    }\n",
       "</style>\n",
       "<table border=\"1\" class=\"dataframe\">\n",
       "  <thead>\n",
       "    <tr style=\"text-align: right;\">\n",
       "      <th></th>\n",
       "      <th>age</th>\n",
       "      <th>sex</th>\n",
       "      <th>bmi</th>\n",
       "      <th>children</th>\n",
       "      <th>smoker</th>\n",
       "      <th>region</th>\n",
       "      <th>charges</th>\n",
       "    </tr>\n",
       "  </thead>\n",
       "  <tbody>\n",
       "    <tr>\n",
       "      <th>0</th>\n",
       "      <td>False</td>\n",
       "      <td>False</td>\n",
       "      <td>False</td>\n",
       "      <td>False</td>\n",
       "      <td>False</td>\n",
       "      <td>False</td>\n",
       "      <td>False</td>\n",
       "    </tr>\n",
       "    <tr>\n",
       "      <th>1</th>\n",
       "      <td>False</td>\n",
       "      <td>False</td>\n",
       "      <td>False</td>\n",
       "      <td>False</td>\n",
       "      <td>False</td>\n",
       "      <td>False</td>\n",
       "      <td>False</td>\n",
       "    </tr>\n",
       "    <tr>\n",
       "      <th>2</th>\n",
       "      <td>False</td>\n",
       "      <td>False</td>\n",
       "      <td>False</td>\n",
       "      <td>False</td>\n",
       "      <td>False</td>\n",
       "      <td>False</td>\n",
       "      <td>False</td>\n",
       "    </tr>\n",
       "    <tr>\n",
       "      <th>3</th>\n",
       "      <td>False</td>\n",
       "      <td>False</td>\n",
       "      <td>False</td>\n",
       "      <td>False</td>\n",
       "      <td>False</td>\n",
       "      <td>False</td>\n",
       "      <td>False</td>\n",
       "    </tr>\n",
       "    <tr>\n",
       "      <th>4</th>\n",
       "      <td>False</td>\n",
       "      <td>False</td>\n",
       "      <td>False</td>\n",
       "      <td>False</td>\n",
       "      <td>False</td>\n",
       "      <td>False</td>\n",
       "      <td>False</td>\n",
       "    </tr>\n",
       "    <tr>\n",
       "      <th>...</th>\n",
       "      <td>...</td>\n",
       "      <td>...</td>\n",
       "      <td>...</td>\n",
       "      <td>...</td>\n",
       "      <td>...</td>\n",
       "      <td>...</td>\n",
       "      <td>...</td>\n",
       "    </tr>\n",
       "    <tr>\n",
       "      <th>1333</th>\n",
       "      <td>False</td>\n",
       "      <td>False</td>\n",
       "      <td>False</td>\n",
       "      <td>False</td>\n",
       "      <td>False</td>\n",
       "      <td>False</td>\n",
       "      <td>False</td>\n",
       "    </tr>\n",
       "    <tr>\n",
       "      <th>1334</th>\n",
       "      <td>False</td>\n",
       "      <td>False</td>\n",
       "      <td>False</td>\n",
       "      <td>False</td>\n",
       "      <td>False</td>\n",
       "      <td>False</td>\n",
       "      <td>False</td>\n",
       "    </tr>\n",
       "    <tr>\n",
       "      <th>1335</th>\n",
       "      <td>False</td>\n",
       "      <td>False</td>\n",
       "      <td>False</td>\n",
       "      <td>False</td>\n",
       "      <td>False</td>\n",
       "      <td>False</td>\n",
       "      <td>False</td>\n",
       "    </tr>\n",
       "    <tr>\n",
       "      <th>1336</th>\n",
       "      <td>False</td>\n",
       "      <td>False</td>\n",
       "      <td>False</td>\n",
       "      <td>False</td>\n",
       "      <td>False</td>\n",
       "      <td>False</td>\n",
       "      <td>False</td>\n",
       "    </tr>\n",
       "    <tr>\n",
       "      <th>1337</th>\n",
       "      <td>False</td>\n",
       "      <td>False</td>\n",
       "      <td>False</td>\n",
       "      <td>False</td>\n",
       "      <td>False</td>\n",
       "      <td>False</td>\n",
       "      <td>False</td>\n",
       "    </tr>\n",
       "  </tbody>\n",
       "</table>\n",
       "<p>1338 rows × 7 columns</p>\n",
       "</div>"
      ],
      "text/plain": [
       "        age    sex    bmi  children  smoker  region  charges\n",
       "0     False  False  False     False   False   False    False\n",
       "1     False  False  False     False   False   False    False\n",
       "2     False  False  False     False   False   False    False\n",
       "3     False  False  False     False   False   False    False\n",
       "4     False  False  False     False   False   False    False\n",
       "...     ...    ...    ...       ...     ...     ...      ...\n",
       "1333  False  False  False     False   False   False    False\n",
       "1334  False  False  False     False   False   False    False\n",
       "1335  False  False  False     False   False   False    False\n",
       "1336  False  False  False     False   False   False    False\n",
       "1337  False  False  False     False   False   False    False\n",
       "\n",
       "[1338 rows x 7 columns]"
      ]
     },
     "execution_count": 161,
     "metadata": {},
     "output_type": "execute_result"
    }
   ],
   "source": [
    "df.isnull()"
   ]
  },
  {
   "cell_type": "code",
   "execution_count": 162,
   "id": "1847b09d",
   "metadata": {},
   "outputs": [
    {
     "data": {
      "text/plain": [
       "age         0\n",
       "sex         0\n",
       "bmi         0\n",
       "children    0\n",
       "smoker      0\n",
       "region      0\n",
       "charges     0\n",
       "dtype: int64"
      ]
     },
     "execution_count": 162,
     "metadata": {},
     "output_type": "execute_result"
    }
   ],
   "source": [
    "df.isnull().sum()"
   ]
  },
  {
   "cell_type": "code",
   "execution_count": 163,
   "id": "8717b98a",
   "metadata": {},
   "outputs": [
    {
     "data": {
      "text/plain": [
       "0       3\n",
       "1       2\n",
       "2       2\n",
       "3       1\n",
       "4       1\n",
       "       ..\n",
       "1333    1\n",
       "1334    0\n",
       "1335    2\n",
       "1336    3\n",
       "1337    1\n",
       "Name: region, Length: 1338, dtype: int32"
      ]
     },
     "execution_count": 163,
     "metadata": {},
     "output_type": "execute_result"
    }
   ],
   "source": [
    "le=LabelEncoder()\n",
    "df['region']=le.fit_transform(df['region'])\n",
    "df['region']"
   ]
  },
  {
   "cell_type": "code",
   "execution_count": 164,
   "id": "fbd88ef7",
   "metadata": {},
   "outputs": [
    {
     "data": {
      "text/plain": [
       "0       0\n",
       "1       1\n",
       "2       1\n",
       "3       1\n",
       "4       1\n",
       "       ..\n",
       "1333    1\n",
       "1334    0\n",
       "1335    0\n",
       "1336    0\n",
       "1337    0\n",
       "Name: sex, Length: 1338, dtype: int32"
      ]
     },
     "execution_count": 164,
     "metadata": {},
     "output_type": "execute_result"
    }
   ],
   "source": [
    "le=LabelEncoder()\n",
    "df['sex']=le.fit_transform(df['sex'])\n",
    "df['sex']"
   ]
  },
  {
   "cell_type": "code",
   "execution_count": 165,
   "id": "84145e02",
   "metadata": {},
   "outputs": [
    {
     "data": {
      "text/plain": [
       "0       1\n",
       "1       0\n",
       "2       0\n",
       "3       0\n",
       "4       0\n",
       "       ..\n",
       "1333    0\n",
       "1334    0\n",
       "1335    0\n",
       "1336    0\n",
       "1337    1\n",
       "Name: smoker, Length: 1338, dtype: int32"
      ]
     },
     "execution_count": 165,
     "metadata": {},
     "output_type": "execute_result"
    }
   ],
   "source": [
    "le=LabelEncoder()\n",
    "df['smoker']=le.fit_transform(df['smoker'])\n",
    "df['smoker']"
   ]
  },
  {
   "cell_type": "code",
   "execution_count": 166,
   "id": "61619cf8",
   "metadata": {},
   "outputs": [
    {
     "data": {
      "text/html": [
       "<div>\n",
       "<style scoped>\n",
       "    .dataframe tbody tr th:only-of-type {\n",
       "        vertical-align: middle;\n",
       "    }\n",
       "\n",
       "    .dataframe tbody tr th {\n",
       "        vertical-align: top;\n",
       "    }\n",
       "\n",
       "    .dataframe thead th {\n",
       "        text-align: right;\n",
       "    }\n",
       "</style>\n",
       "<table border=\"1\" class=\"dataframe\">\n",
       "  <thead>\n",
       "    <tr style=\"text-align: right;\">\n",
       "      <th></th>\n",
       "      <th>age</th>\n",
       "      <th>sex</th>\n",
       "      <th>bmi</th>\n",
       "      <th>children</th>\n",
       "      <th>smoker</th>\n",
       "      <th>region</th>\n",
       "      <th>charges</th>\n",
       "    </tr>\n",
       "  </thead>\n",
       "  <tbody>\n",
       "    <tr>\n",
       "      <th>0</th>\n",
       "      <td>19</td>\n",
       "      <td>0</td>\n",
       "      <td>27.900</td>\n",
       "      <td>0</td>\n",
       "      <td>1</td>\n",
       "      <td>3</td>\n",
       "      <td>16884.92400</td>\n",
       "    </tr>\n",
       "    <tr>\n",
       "      <th>1</th>\n",
       "      <td>18</td>\n",
       "      <td>1</td>\n",
       "      <td>33.770</td>\n",
       "      <td>1</td>\n",
       "      <td>0</td>\n",
       "      <td>2</td>\n",
       "      <td>1725.55230</td>\n",
       "    </tr>\n",
       "    <tr>\n",
       "      <th>2</th>\n",
       "      <td>28</td>\n",
       "      <td>1</td>\n",
       "      <td>33.000</td>\n",
       "      <td>3</td>\n",
       "      <td>0</td>\n",
       "      <td>2</td>\n",
       "      <td>4449.46200</td>\n",
       "    </tr>\n",
       "    <tr>\n",
       "      <th>3</th>\n",
       "      <td>33</td>\n",
       "      <td>1</td>\n",
       "      <td>22.705</td>\n",
       "      <td>0</td>\n",
       "      <td>0</td>\n",
       "      <td>1</td>\n",
       "      <td>21984.47061</td>\n",
       "    </tr>\n",
       "    <tr>\n",
       "      <th>4</th>\n",
       "      <td>32</td>\n",
       "      <td>1</td>\n",
       "      <td>28.880</td>\n",
       "      <td>0</td>\n",
       "      <td>0</td>\n",
       "      <td>1</td>\n",
       "      <td>3866.85520</td>\n",
       "    </tr>\n",
       "    <tr>\n",
       "      <th>...</th>\n",
       "      <td>...</td>\n",
       "      <td>...</td>\n",
       "      <td>...</td>\n",
       "      <td>...</td>\n",
       "      <td>...</td>\n",
       "      <td>...</td>\n",
       "      <td>...</td>\n",
       "    </tr>\n",
       "    <tr>\n",
       "      <th>1333</th>\n",
       "      <td>50</td>\n",
       "      <td>1</td>\n",
       "      <td>30.970</td>\n",
       "      <td>3</td>\n",
       "      <td>0</td>\n",
       "      <td>1</td>\n",
       "      <td>10600.54830</td>\n",
       "    </tr>\n",
       "    <tr>\n",
       "      <th>1334</th>\n",
       "      <td>18</td>\n",
       "      <td>0</td>\n",
       "      <td>31.920</td>\n",
       "      <td>0</td>\n",
       "      <td>0</td>\n",
       "      <td>0</td>\n",
       "      <td>2205.98080</td>\n",
       "    </tr>\n",
       "    <tr>\n",
       "      <th>1335</th>\n",
       "      <td>18</td>\n",
       "      <td>0</td>\n",
       "      <td>36.850</td>\n",
       "      <td>0</td>\n",
       "      <td>0</td>\n",
       "      <td>2</td>\n",
       "      <td>1629.83350</td>\n",
       "    </tr>\n",
       "    <tr>\n",
       "      <th>1336</th>\n",
       "      <td>21</td>\n",
       "      <td>0</td>\n",
       "      <td>25.800</td>\n",
       "      <td>0</td>\n",
       "      <td>0</td>\n",
       "      <td>3</td>\n",
       "      <td>2007.94500</td>\n",
       "    </tr>\n",
       "    <tr>\n",
       "      <th>1337</th>\n",
       "      <td>61</td>\n",
       "      <td>0</td>\n",
       "      <td>29.070</td>\n",
       "      <td>0</td>\n",
       "      <td>1</td>\n",
       "      <td>1</td>\n",
       "      <td>29141.36030</td>\n",
       "    </tr>\n",
       "  </tbody>\n",
       "</table>\n",
       "<p>1338 rows × 7 columns</p>\n",
       "</div>"
      ],
      "text/plain": [
       "      age  sex     bmi  children  smoker  region      charges\n",
       "0      19    0  27.900         0       1       3  16884.92400\n",
       "1      18    1  33.770         1       0       2   1725.55230\n",
       "2      28    1  33.000         3       0       2   4449.46200\n",
       "3      33    1  22.705         0       0       1  21984.47061\n",
       "4      32    1  28.880         0       0       1   3866.85520\n",
       "...   ...  ...     ...       ...     ...     ...          ...\n",
       "1333   50    1  30.970         3       0       1  10600.54830\n",
       "1334   18    0  31.920         0       0       0   2205.98080\n",
       "1335   18    0  36.850         0       0       2   1629.83350\n",
       "1336   21    0  25.800         0       0       3   2007.94500\n",
       "1337   61    0  29.070         0       1       1  29141.36030\n",
       "\n",
       "[1338 rows x 7 columns]"
      ]
     },
     "execution_count": 166,
     "metadata": {},
     "output_type": "execute_result"
    }
   ],
   "source": [
    "df"
   ]
  },
  {
   "cell_type": "code",
   "execution_count": 167,
   "id": "89535a0d",
   "metadata": {},
   "outputs": [
    {
     "data": {
      "text/html": [
       "<div>\n",
       "<style scoped>\n",
       "    .dataframe tbody tr th:only-of-type {\n",
       "        vertical-align: middle;\n",
       "    }\n",
       "\n",
       "    .dataframe tbody tr th {\n",
       "        vertical-align: top;\n",
       "    }\n",
       "\n",
       "    .dataframe thead th {\n",
       "        text-align: right;\n",
       "    }\n",
       "</style>\n",
       "<table border=\"1\" class=\"dataframe\">\n",
       "  <thead>\n",
       "    <tr style=\"text-align: right;\">\n",
       "      <th></th>\n",
       "      <th>age</th>\n",
       "      <th>sex</th>\n",
       "      <th>bmi</th>\n",
       "      <th>children</th>\n",
       "      <th>smoker</th>\n",
       "      <th>region</th>\n",
       "    </tr>\n",
       "  </thead>\n",
       "  <tbody>\n",
       "    <tr>\n",
       "      <th>0</th>\n",
       "      <td>19</td>\n",
       "      <td>0</td>\n",
       "      <td>27.900</td>\n",
       "      <td>0</td>\n",
       "      <td>1</td>\n",
       "      <td>3</td>\n",
       "    </tr>\n",
       "    <tr>\n",
       "      <th>1</th>\n",
       "      <td>18</td>\n",
       "      <td>1</td>\n",
       "      <td>33.770</td>\n",
       "      <td>1</td>\n",
       "      <td>0</td>\n",
       "      <td>2</td>\n",
       "    </tr>\n",
       "    <tr>\n",
       "      <th>2</th>\n",
       "      <td>28</td>\n",
       "      <td>1</td>\n",
       "      <td>33.000</td>\n",
       "      <td>3</td>\n",
       "      <td>0</td>\n",
       "      <td>2</td>\n",
       "    </tr>\n",
       "    <tr>\n",
       "      <th>3</th>\n",
       "      <td>33</td>\n",
       "      <td>1</td>\n",
       "      <td>22.705</td>\n",
       "      <td>0</td>\n",
       "      <td>0</td>\n",
       "      <td>1</td>\n",
       "    </tr>\n",
       "    <tr>\n",
       "      <th>4</th>\n",
       "      <td>32</td>\n",
       "      <td>1</td>\n",
       "      <td>28.880</td>\n",
       "      <td>0</td>\n",
       "      <td>0</td>\n",
       "      <td>1</td>\n",
       "    </tr>\n",
       "    <tr>\n",
       "      <th>...</th>\n",
       "      <td>...</td>\n",
       "      <td>...</td>\n",
       "      <td>...</td>\n",
       "      <td>...</td>\n",
       "      <td>...</td>\n",
       "      <td>...</td>\n",
       "    </tr>\n",
       "    <tr>\n",
       "      <th>1333</th>\n",
       "      <td>50</td>\n",
       "      <td>1</td>\n",
       "      <td>30.970</td>\n",
       "      <td>3</td>\n",
       "      <td>0</td>\n",
       "      <td>1</td>\n",
       "    </tr>\n",
       "    <tr>\n",
       "      <th>1334</th>\n",
       "      <td>18</td>\n",
       "      <td>0</td>\n",
       "      <td>31.920</td>\n",
       "      <td>0</td>\n",
       "      <td>0</td>\n",
       "      <td>0</td>\n",
       "    </tr>\n",
       "    <tr>\n",
       "      <th>1335</th>\n",
       "      <td>18</td>\n",
       "      <td>0</td>\n",
       "      <td>36.850</td>\n",
       "      <td>0</td>\n",
       "      <td>0</td>\n",
       "      <td>2</td>\n",
       "    </tr>\n",
       "    <tr>\n",
       "      <th>1336</th>\n",
       "      <td>21</td>\n",
       "      <td>0</td>\n",
       "      <td>25.800</td>\n",
       "      <td>0</td>\n",
       "      <td>0</td>\n",
       "      <td>3</td>\n",
       "    </tr>\n",
       "    <tr>\n",
       "      <th>1337</th>\n",
       "      <td>61</td>\n",
       "      <td>0</td>\n",
       "      <td>29.070</td>\n",
       "      <td>0</td>\n",
       "      <td>1</td>\n",
       "      <td>1</td>\n",
       "    </tr>\n",
       "  </tbody>\n",
       "</table>\n",
       "<p>1338 rows × 6 columns</p>\n",
       "</div>"
      ],
      "text/plain": [
       "      age  sex     bmi  children  smoker  region\n",
       "0      19    0  27.900         0       1       3\n",
       "1      18    1  33.770         1       0       2\n",
       "2      28    1  33.000         3       0       2\n",
       "3      33    1  22.705         0       0       1\n",
       "4      32    1  28.880         0       0       1\n",
       "...   ...  ...     ...       ...     ...     ...\n",
       "1333   50    1  30.970         3       0       1\n",
       "1334   18    0  31.920         0       0       0\n",
       "1335   18    0  36.850         0       0       2\n",
       "1336   21    0  25.800         0       0       3\n",
       "1337   61    0  29.070         0       1       1\n",
       "\n",
       "[1338 rows x 6 columns]"
      ]
     },
     "execution_count": 167,
     "metadata": {},
     "output_type": "execute_result"
    }
   ],
   "source": [
    "# only X input data\n",
    "x=df.iloc[:,0:-1]\n",
    "x"
   ]
  },
  {
   "cell_type": "code",
   "execution_count": 168,
   "id": "ec0e413e",
   "metadata": {},
   "outputs": [
    {
     "data": {
      "text/plain": [
       "0       16884.92400\n",
       "1        1725.55230\n",
       "2        4449.46200\n",
       "3       21984.47061\n",
       "4        3866.85520\n",
       "           ...     \n",
       "1333    10600.54830\n",
       "1334     2205.98080\n",
       "1335     1629.83350\n",
       "1336     2007.94500\n",
       "1337    29141.36030\n",
       "Name: charges, Length: 1338, dtype: float64"
      ]
     },
     "execution_count": 168,
     "metadata": {},
     "output_type": "execute_result"
    }
   ],
   "source": [
    "# only y output data\n",
    "y=df.iloc[:,-1]\n",
    "y"
   ]
  },
  {
   "cell_type": "code",
   "execution_count": 169,
   "id": "aa3944eb",
   "metadata": {},
   "outputs": [],
   "source": [
    "x_train,x_test,y_train,y_test=train_test_split(x,y,test_size=.20,random_state=30)"
   ]
  },
  {
   "cell_type": "code",
   "execution_count": 170,
   "id": "dcbb7615",
   "metadata": {},
   "outputs": [
    {
     "data": {
      "text/plain": [
       "(1070, 6)"
      ]
     },
     "execution_count": 170,
     "metadata": {},
     "output_type": "execute_result"
    }
   ],
   "source": [
    "x_train.shape"
   ]
  },
  {
   "cell_type": "code",
   "execution_count": 171,
   "id": "50598524",
   "metadata": {},
   "outputs": [
    {
     "data": {
      "text/plain": [
       "(268, 6)"
      ]
     },
     "execution_count": 171,
     "metadata": {},
     "output_type": "execute_result"
    }
   ],
   "source": [
    "x_test.shape"
   ]
  },
  {
   "cell_type": "code",
   "execution_count": 172,
   "id": "934de40d",
   "metadata": {},
   "outputs": [
    {
     "data": {
      "text/plain": [
       "(1070,)"
      ]
     },
     "execution_count": 172,
     "metadata": {},
     "output_type": "execute_result"
    }
   ],
   "source": [
    "y_train.shape"
   ]
  },
  {
   "cell_type": "code",
   "execution_count": 173,
   "id": "16e53232",
   "metadata": {},
   "outputs": [
    {
     "data": {
      "text/plain": [
       "(268,)"
      ]
     },
     "execution_count": 173,
     "metadata": {},
     "output_type": "execute_result"
    }
   ],
   "source": [
    "y_test.shape"
   ]
  },
  {
   "cell_type": "code",
   "execution_count": 174,
   "id": "162f970f",
   "metadata": {},
   "outputs": [],
   "source": [
    "lm = LinearRegression()"
   ]
  },
  {
   "cell_type": "code",
   "execution_count": 175,
   "id": "4b5520f2",
   "metadata": {},
   "outputs": [
    {
     "data": {
      "text/plain": [
       "LinearRegression()"
      ]
     },
     "execution_count": 175,
     "metadata": {},
     "output_type": "execute_result"
    }
   ],
   "source": [
    "lm.fit(x_train,y_train)"
   ]
  },
  {
   "cell_type": "code",
   "execution_count": 176,
   "id": "b418d92b",
   "metadata": {},
   "outputs": [
    {
     "data": {
      "text/plain": [
       "array([35760.48352429,  5381.15877497,  5326.21766314, 26714.85102127,\n",
       "       12536.55172969,  7210.02475326,  5378.1801543 ,  9941.25243909,\n",
       "       33869.01951699, 11522.7226458 ,  7475.81296657,  9669.31067581,\n",
       "       35042.55070011, 11722.99700646,  1941.85622655, 35714.11776337,\n",
       "       11839.46078525,  9421.96380426, 28594.46093725, 11155.36490257,\n",
       "        1619.36866582,  8977.3208754 ,  7469.85098802, 11532.12518555,\n",
       "       32714.79282397, 38873.51048088, 15208.03676714,  3908.90268189,\n",
       "       11314.23458842, 15452.3692687 ,  2326.54955806, 30493.60268419,\n",
       "        1987.03357501, 14939.16489193, 12151.5201976 ,  8882.53511476,\n",
       "        1833.07586263,  7155.44486504,   883.01353844,  8208.87967374,\n",
       "        7534.85600064, 34681.06236394,  3072.81944909, 14667.90486147,\n",
       "       10601.21875205, 30379.8238166 ,  5983.64912476,  3001.49360843,\n",
       "        3040.69595485,  6222.31779483, 11067.73287422, 12884.58692487,\n",
       "       11832.37225086,  1560.5669767 , 10981.18827091,  8004.98134596,\n",
       "       32059.08952625,  3697.20632907, 13513.94388978,  5601.87635169,\n",
       "       14766.25677738, 11126.41888177, 11655.79915514,  8198.00807576,\n",
       "        -344.24500719,  8155.24927397, 10842.7309992 ,  1023.71423962,\n",
       "        3090.99577965, 14556.96192305, 10262.81891241,  2967.17984879,\n",
       "        -322.28895433, 10314.06895588, 16138.65308284,  -206.90023796,\n",
       "       12635.27463846, 10370.57439794, 31566.2314229 ,  3666.83603598,\n",
       "        1635.94226558, 11082.39584699, 10155.19759938, 30410.84377805,\n",
       "        1021.01765823, 16411.31601312,  9453.49779362, 18110.251941  ,\n",
       "        8620.31260605, 11199.38301003, 13565.42876324, 14415.37599091,\n",
       "       26700.00455555, 10911.32180866, 37251.92922307,  5953.13875366,\n",
       "       10565.697151  ,  1293.67756454,  7702.97675519, 36147.67289606,\n",
       "       34714.34481964,  9062.57042372, 10570.63120708,  8286.9873134 ,\n",
       "       32801.36655854, 26696.03900638,  6769.80416641, 35675.70612625,\n",
       "       34116.4733508 ,  1546.98408069, 10988.42547165,  7377.75686376,\n",
       "        1347.92188575, 27600.50021184,  5468.29993181,  4712.37889722,\n",
       "       12952.81679025, 10825.4088851 , 10264.25265431, 15185.95338023,\n",
       "        4350.82266264, 13310.87243111, 36246.37539287, 14935.90686314,\n",
       "       29978.67925188, 11044.65454964, 13788.69853911,  8248.96894187,\n",
       "       31439.76729067, 11734.22151926, 10823.49258049,  6176.76975314,\n",
       "       34091.9410459 , 26782.17824093, 12545.48502987,  2458.40749624,\n",
       "       40676.19716507, 24921.19851754, 12474.31261046,  6563.64103668,\n",
       "       13294.9518434 , 10617.14531462,  3782.17355856, 37041.10674836,\n",
       "        7459.63212255, 11453.50491148,  6078.71262048,  3681.99799655,\n",
       "        9685.99355168, 32742.3416025 , 16060.46362768,  7096.13052144,\n",
       "       10656.26911991,  6468.7830094 ,  8973.64610489,  8268.83569663,\n",
       "        5035.44495354, 13015.08039297, 17549.50784807,  6146.11742076,\n",
       "       11008.02650508, 31539.7788088 , 15071.91549639, 10465.69268152,\n",
       "       15291.87575005, 15040.04964498, 34627.30463011,  8060.17010109,\n",
       "        7445.20237846,  1849.74096009,  7989.33682268, 12509.1684354 ,\n",
       "        6228.82446983,  5454.64551948, 33696.60039069,  7525.12965724,\n",
       "        3286.33180011, 10404.27329572, 15054.55287808, 29978.53182558,\n",
       "       11285.94327042, 13865.77583535,   928.78009216,  1086.23715821,\n",
       "       38955.44787583, 27945.98383097, 27785.62835603,  7728.87730446,\n",
       "       31868.99535094, 14718.32101102,   193.01279903,  9575.02358564,\n",
       "       14296.88969555, 11462.38671824,  2556.3861748 , 12050.05664934,\n",
       "       16034.74659145, 30891.37687986, 30294.47927583,  5909.7336248 ,\n",
       "       10393.7906792 ,  2570.81351802,  7156.66501983,  6629.67489209,\n",
       "       27919.43267052,  1108.20625467,  4966.28599158, 36872.40150327,\n",
       "       35827.21659129, 36935.29008065,  6917.44101057,  7381.34341091,\n",
       "       39448.50084506,  6844.37929648,  5608.90703405, 38908.80483052,\n",
       "        5749.11780654,  3550.12765796, 16556.11454492, 28306.89703294,\n",
       "        9903.80498457, 38596.83858652, 12795.46403521,  2373.95795568,\n",
       "        3256.63186688, 10191.85575581, 10045.8019631 ,  8121.63660916,\n",
       "        7688.96439359,  3845.00764771,  9045.36799576, 11346.34670971,\n",
       "       10034.69711635, 13444.62088394, 10509.75082242, 31335.13522095,\n",
       "       30186.00871144, 10935.20412549,  7674.81007073, 27808.53147637,\n",
       "       16875.7932041 , 15198.92834975,  9693.28595078,  5942.30196216,\n",
       "       16185.72632396, 11725.94626557,  2249.57153839,  4057.70418284,\n",
       "        6135.05431828, 16149.98852471,  4254.70181357, 10220.30376943,\n",
       "       14258.86607937, 37730.38534017, 25648.25942076,  5122.08347551,\n",
       "       11432.04512582, 11922.75871262, 11651.74801619, 27601.98703078,\n",
       "        9597.51865973, 16205.43995711,  6100.63457697, 12322.22429302,\n",
       "       15876.41659011,  6543.96987802, 12159.19393266,  4816.69949676])"
      ]
     },
     "execution_count": 176,
     "metadata": {},
     "output_type": "execute_result"
    }
   ],
   "source": [
    "pred=lm.predict(x_test)\n",
    "pred"
   ]
  },
  {
   "cell_type": "code",
   "execution_count": 177,
   "id": "aef586d9",
   "metadata": {},
   "outputs": [
    {
     "data": {
      "text/plain": [
       "-11664.498919838006"
      ]
     },
     "execution_count": 177,
     "metadata": {},
     "output_type": "execute_result"
    }
   ],
   "source": [
    "lm.intercept_"
   ]
  },
  {
   "cell_type": "code",
   "execution_count": 178,
   "id": "51397dbc",
   "metadata": {},
   "outputs": [
    {
     "data": {
      "text/plain": [
       "0.7475092736880848"
      ]
     },
     "execution_count": 178,
     "metadata": {},
     "output_type": "execute_result"
    }
   ],
   "source": [
    "lm.score(x_train,y_train)"
   ]
  },
  {
   "cell_type": "code",
   "execution_count": 179,
   "id": "6c9627d2",
   "metadata": {},
   "outputs": [
    {
     "name": "stdout",
     "output_type": "stream",
     "text": [
      "predicted result value: [35760.48352429  5381.15877497  5326.21766314 26714.85102127\n",
      " 12536.55172969  7210.02475326  5378.1801543   9941.25243909\n",
      " 33869.01951699 11522.7226458   7475.81296657  9669.31067581\n",
      " 35042.55070011 11722.99700646  1941.85622655 35714.11776337\n",
      " 11839.46078525  9421.96380426 28594.46093725 11155.36490257\n",
      "  1619.36866582  8977.3208754   7469.85098802 11532.12518555\n",
      " 32714.79282397 38873.51048088 15208.03676714  3908.90268189\n",
      " 11314.23458842 15452.3692687   2326.54955806 30493.60268419\n",
      "  1987.03357501 14939.16489193 12151.5201976   8882.53511476\n",
      "  1833.07586263  7155.44486504   883.01353844  8208.87967374\n",
      "  7534.85600064 34681.06236394  3072.81944909 14667.90486147\n",
      " 10601.21875205 30379.8238166   5983.64912476  3001.49360843\n",
      "  3040.69595485  6222.31779483 11067.73287422 12884.58692487\n",
      " 11832.37225086  1560.5669767  10981.18827091  8004.98134596\n",
      " 32059.08952625  3697.20632907 13513.94388978  5601.87635169\n",
      " 14766.25677738 11126.41888177 11655.79915514  8198.00807576\n",
      "  -344.24500719  8155.24927397 10842.7309992   1023.71423962\n",
      "  3090.99577965 14556.96192305 10262.81891241  2967.17984879\n",
      "  -322.28895433 10314.06895588 16138.65308284  -206.90023796\n",
      " 12635.27463846 10370.57439794 31566.2314229   3666.83603598\n",
      "  1635.94226558 11082.39584699 10155.19759938 30410.84377805\n",
      "  1021.01765823 16411.31601312  9453.49779362 18110.251941\n",
      "  8620.31260605 11199.38301003 13565.42876324 14415.37599091\n",
      " 26700.00455555 10911.32180866 37251.92922307  5953.13875366\n",
      " 10565.697151    1293.67756454  7702.97675519 36147.67289606\n",
      " 34714.34481964  9062.57042372 10570.63120708  8286.9873134\n",
      " 32801.36655854 26696.03900638  6769.80416641 35675.70612625\n",
      " 34116.4733508   1546.98408069 10988.42547165  7377.75686376\n",
      "  1347.92188575 27600.50021184  5468.29993181  4712.37889722\n",
      " 12952.81679025 10825.4088851  10264.25265431 15185.95338023\n",
      "  4350.82266264 13310.87243111 36246.37539287 14935.90686314\n",
      " 29978.67925188 11044.65454964 13788.69853911  8248.96894187\n",
      " 31439.76729067 11734.22151926 10823.49258049  6176.76975314\n",
      " 34091.9410459  26782.17824093 12545.48502987  2458.40749624\n",
      " 40676.19716507 24921.19851754 12474.31261046  6563.64103668\n",
      " 13294.9518434  10617.14531462  3782.17355856 37041.10674836\n",
      "  7459.63212255 11453.50491148  6078.71262048  3681.99799655\n",
      "  9685.99355168 32742.3416025  16060.46362768  7096.13052144\n",
      " 10656.26911991  6468.7830094   8973.64610489  8268.83569663\n",
      "  5035.44495354 13015.08039297 17549.50784807  6146.11742076\n",
      " 11008.02650508 31539.7788088  15071.91549639 10465.69268152\n",
      " 15291.87575005 15040.04964498 34627.30463011  8060.17010109\n",
      "  7445.20237846  1849.74096009  7989.33682268 12509.1684354\n",
      "  6228.82446983  5454.64551948 33696.60039069  7525.12965724\n",
      "  3286.33180011 10404.27329572 15054.55287808 29978.53182558\n",
      " 11285.94327042 13865.77583535   928.78009216  1086.23715821\n",
      " 38955.44787583 27945.98383097 27785.62835603  7728.87730446\n",
      " 31868.99535094 14718.32101102   193.01279903  9575.02358564\n",
      " 14296.88969555 11462.38671824  2556.3861748  12050.05664934\n",
      " 16034.74659145 30891.37687986 30294.47927583  5909.7336248\n",
      " 10393.7906792   2570.81351802  7156.66501983  6629.67489209\n",
      " 27919.43267052  1108.20625467  4966.28599158 36872.40150327\n",
      " 35827.21659129 36935.29008065  6917.44101057  7381.34341091\n",
      " 39448.50084506  6844.37929648  5608.90703405 38908.80483052\n",
      "  5749.11780654  3550.12765796 16556.11454492 28306.89703294\n",
      "  9903.80498457 38596.83858652 12795.46403521  2373.95795568\n",
      "  3256.63186688 10191.85575581 10045.8019631   8121.63660916\n",
      "  7688.96439359  3845.00764771  9045.36799576 11346.34670971\n",
      " 10034.69711635 13444.62088394 10509.75082242 31335.13522095\n",
      " 30186.00871144 10935.20412549  7674.81007073 27808.53147637\n",
      " 16875.7932041  15198.92834975  9693.28595078  5942.30196216\n",
      " 16185.72632396 11725.94626557  2249.57153839  4057.70418284\n",
      "  6135.05431828 16149.98852471  4254.70181357 10220.30376943\n",
      " 14258.86607937 37730.38534017 25648.25942076  5122.08347551\n",
      " 11432.04512582 11922.75871262 11651.74801619 27601.98703078\n",
      "  9597.51865973 16205.43995711  6100.63457697 12322.22429302\n",
      " 15876.41659011  6543.96987802 12159.19393266  4816.69949676]\n",
      "actual price: 338    41919.09700\n",
      "620     3659.34600\n",
      "965     4746.34400\n",
      "128    32734.18630\n",
      "329     9144.56500\n",
      "          ...     \n",
      "580    12913.99240\n",
      "786    12741.16745\n",
      "321    24671.66334\n",
      "903     8125.78450\n",
      "613     6753.03800\n",
      "Name: charges, Length: 268, dtype: float64\n"
     ]
    }
   ],
   "source": [
    "pred=lm.predict(x_test)\n",
    "print(\"predicted result value:\",pred)\n",
    "print(\"actual price:\",y_test)"
   ]
  },
  {
   "cell_type": "code",
   "execution_count": 180,
   "id": "57508502",
   "metadata": {},
   "outputs": [
    {
     "name": "stdout",
     "output_type": "stream",
     "text": [
      "error:\n",
      "mean absolute error: 4178.116485416856\n",
      "mean squared error: 36984561.846271716\n",
      "Root mean squared error: 6081.493389478584\n"
     ]
    }
   ],
   "source": [
    "# y= a+bx+e (e=error,mse,mae,Rmse)\n",
    "print('error:')\n",
    "print('mean absolute error:',mean_absolute_error(y_test,pred))\n",
    "print('mean squared error:',mean_squared_error(y_test,pred))\n",
    "print('Root mean squared error:',np.sqrt(mean_squared_error(y_test,pred)))"
   ]
  },
  {
   "cell_type": "code",
   "execution_count": 181,
   "id": "5a8e4af7",
   "metadata": {},
   "outputs": [
    {
     "name": "stdout",
     "output_type": "stream",
     "text": [
      "0.7602344599010098\n"
     ]
    }
   ],
   "source": [
    "# r2 score--> Cofficient of Determination\n",
    "# x ki value change hone par y ki value kitani change hoti he.\n",
    "from sklearn.metrics import r2_score\n",
    "print(r2_score(y_test,pred))"
   ]
  },
  {
   "cell_type": "code",
   "execution_count": 183,
   "id": "99f82163",
   "metadata": {},
   "outputs": [],
   "source": [
    "t=np.array([14258.86607937,37730.38534017,25648.25942076 ,5122.08347551])"
   ]
  },
  {
   "cell_type": "code",
   "execution_count": 184,
   "id": "aa1f50e5",
   "metadata": {},
   "outputs": [
    {
     "data": {
      "text/plain": [
       "(4,)"
      ]
     },
     "execution_count": 184,
     "metadata": {},
     "output_type": "execute_result"
    }
   ],
   "source": [
    "t.shape"
   ]
  },
  {
   "cell_type": "code",
   "execution_count": 185,
   "id": "90f21271",
   "metadata": {},
   "outputs": [],
   "source": [
    "# linearRegression work on 2d Dimesnsion data (rows,columns) format\n",
    "# how to change above ROW format into  the (rows,columns) format\n",
    "t=t.reshape(1,-1)"
   ]
  },
  {
   "cell_type": "code",
   "execution_count": 186,
   "id": "97d0a21f",
   "metadata": {},
   "outputs": [
    {
     "data": {
      "text/plain": [
       "(1, 4)"
      ]
     },
     "execution_count": 186,
     "metadata": {},
     "output_type": "execute_result"
    }
   ],
   "source": [
    "t.shape"
   ]
  },
  {
   "cell_type": "code",
   "execution_count": null,
   "id": "b44e8c89",
   "metadata": {},
   "outputs": [],
   "source": []
  }
 ],
 "metadata": {
  "kernelspec": {
   "display_name": "Python 3 (ipykernel)",
   "language": "python",
   "name": "python3"
  },
  "language_info": {
   "codemirror_mode": {
    "name": "ipython",
    "version": 3
   },
   "file_extension": ".py",
   "mimetype": "text/x-python",
   "name": "python",
   "nbconvert_exporter": "python",
   "pygments_lexer": "ipython3",
   "version": "3.9.13"
  }
 },
 "nbformat": 4,
 "nbformat_minor": 5
}
